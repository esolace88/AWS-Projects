{
 "cells": [
  {
   "cell_type": "code",
   "execution_count": 3,
   "id": "1459d01d",
   "metadata": {},
   "outputs": [],
   "source": [
    "import re\n",
    "import os\n",
    "import json\n",
    "import boto3\n",
    "import datetime\n",
    "import uuid\n",
    "from datetime import datetime\n",
    "import json\n",
    "\n",
    "\n",
    "\n",
    "class Secrets:\n",
    "    def __init__(self):\n",
    "        # Enter Your User Key Access and Event Bus ARN\n",
    "        self.AWS_ACCESS_KEY = \"xxxxx\"\n",
    "        self.AWS_SECRET_KEY = \"xxxxx\"\n",
    "        self.AWS_REGION_NAME = \"us-east-1\"\n",
    "        self.EventBusName = 'xxxx'\n",
    "\n",
    "class AWSEventBus(Secrets):\n",
    "\n",
    "    \"\"\"Helper class to which add functionality on top of boto3 \"\"\"\n",
    "\n",
    "    def __init__(self, **kwargs):\n",
    "        Secrets.__init__(\n",
    "            self\n",
    "        )\n",
    "        self.client = boto3.client(\n",
    "            \"events\",\n",
    "            aws_access_key_id=self.AWS_ACCESS_KEY,\n",
    "            aws_secret_access_key=self.AWS_SECRET_KEY,\n",
    "            region_name=self.AWS_REGION_NAME,\n",
    "        )\n",
    "\n",
    "    def send_events(self, json_message={}):\n",
    "        response = self.client.put_events(\n",
    "            Entries=[\n",
    "                {\n",
    "                    'Time': datetime.now(),\n",
    "                    'Source': 'Producer',\n",
    "                    'Resources': [],\n",
    "                    'DetailType': 'string',\n",
    "                    'Detail':json.dumps(json_message) ,\n",
    "                    'EventBusName': self.EventBusName,\n",
    "\n",
    "\n",
    "                },\n",
    "            ]\n",
    "        )\n",
    "        return response\n",
    "\n",
    "def main():\n",
    "    ## Copy and Paste This into Event Pattern, START\n",
    "    \"\"\"\"\n",
    "    {\n",
    "    \"detail\":{\n",
    "        \"status\":[\"new order\"]\n",
    "    }\n",
    "\n",
    "    }\n",
    "    \"\"\"\n",
    "    ## END\n",
    "    json_data = {\n",
    "        \"status\":\"new order\",\n",
    "        \"message\":\"User Posted Order Number XXXX\"\n",
    "    }\n",
    "    helper = AWSEventBus()\n",
    "    message = helper.send_events(json_message=json_data)\n",
    "    print(message)\n",
    "\n"
   ]
  },
  {
   "cell_type": "code",
   "execution_count": 4,
   "id": "4373b6ce",
   "metadata": {
    "scrolled": true
   },
   "outputs": [
    {
     "name": "stdout",
     "output_type": "stream",
     "text": [
      "{'FailedEntryCount': 0, 'Entries': [{'EventId': 'f198b596-7544-e42c-aa48-d648ed211941'}], 'ResponseMetadata': {'RequestId': 'fa5fdb25-eea2-4948-b349-b52f42aeac1f', 'HTTPStatusCode': 200, 'HTTPHeaders': {'x-amzn-requestid': 'fa5fdb25-eea2-4948-b349-b52f42aeac1f', 'content-type': 'application/x-amz-json-1.1', 'content-length': '85', 'date': 'Sun, 02 Jul 2023 14:49:03 GMT'}, 'RetryAttempts': 0}}\n"
     ]
    }
   ],
   "source": [
    "main()"
   ]
  },
  {
   "cell_type": "code",
   "execution_count": null,
   "id": "57927f2a",
   "metadata": {},
   "outputs": [],
   "source": []
  }
 ],
 "metadata": {
  "kernelspec": {
   "display_name": "Python 3 (ipykernel)",
   "language": "python",
   "name": "python3"
  },
  "language_info": {
   "codemirror_mode": {
    "name": "ipython",
    "version": 3
   },
   "file_extension": ".py",
   "mimetype": "text/x-python",
   "name": "python",
   "nbconvert_exporter": "python",
   "pygments_lexer": "ipython3",
   "version": "3.9.7"
  }
 },
 "nbformat": 4,
 "nbformat_minor": 5
}
